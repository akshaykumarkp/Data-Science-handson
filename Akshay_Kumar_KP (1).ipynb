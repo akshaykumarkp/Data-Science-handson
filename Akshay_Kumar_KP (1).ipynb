{
  "nbformat": 4,
  "nbformat_minor": 0,
  "metadata": {
    "colab": {
      "provenance": []
    },
    "kernelspec": {
      "name": "python3",
      "display_name": "Python 3"
    },
    "language_info": {
      "name": "python"
    }
  },
  "cells": [
    {
      "cell_type": "markdown",
      "source": [
        "1.  Write a Python program to create a class representing a Circle. Include methods to calculate its area and perimeter."
      ],
      "metadata": {
        "id": "nwsp3QFQndTo"
      }
    },
    {
      "cell_type": "code",
      "source": [
        "class circle:\n",
        "  def perimeter(self,r):\n",
        "    self.radius = int(r)\n",
        "    p = 2*3.14*r\n",
        "    print(f'Perimeter is: {p}')\n",
        "  def area(self,r):\n",
        "    a = 3.14*r**2\n",
        "    print(f'Area is: {a}')\n",
        "rad = int(input('Enter radius of the circle: '))\n",
        "circle1 = circle()\n",
        "circle1.perimeter(rad)\n",
        "circle1.area(rad)\n",
        "\n"
      ],
      "metadata": {
        "colab": {
          "base_uri": "https://localhost:8080/"
        },
        "id": "TnDQM5i-nerS",
        "outputId": "af59c1d7-9537-4b46-a91f-5094b103a98d"
      },
      "execution_count": 6,
      "outputs": [
        {
          "output_type": "stream",
          "name": "stdout",
          "text": [
            "Enter radius of the circle: 3\n",
            "Perimeter is: 18.84\n",
            "Area is: 28.26\n"
          ]
        }
      ]
    },
    {
      "cell_type": "markdown",
      "source": [
        "2. Write a Python program to create a calculator class. Include methods for basic arithmetic operations."
      ],
      "metadata": {
        "id": "ivdY43wQq8bH"
      }
    },
    {
      "cell_type": "code",
      "source": [
        "class calculator:\n",
        "  def __init__(self,n1,n2):\n",
        "    self.n1 = int(n1)\n",
        "    self.n2 = int(n2)\n",
        "  def add(self):\n",
        "    sum = self.n1+self.n2\n",
        "    print(f'Sum is: {sum}')\n",
        "  def sub(self):\n",
        "    diff = self.n1-self.n2\n",
        "    print(f'difference is: {diff}')\n",
        "  def multiply(self):\n",
        "    product = self.n1*self.n2\n",
        "    print(f'Product is: {product}')\n",
        "  def divide(self):\n",
        "    div = self.n1/self.n2\n",
        "    print(f'Div is: {div}')\n",
        "n1,n2 = input().split()\n",
        "num1 = calculator(n1,n2)\n",
        "num1.add()\n",
        "num1.sub()\n",
        "num1.multiply()\n",
        "num1.divide()\n"
      ],
      "metadata": {
        "colab": {
          "base_uri": "https://localhost:8080/"
        },
        "id": "y2gZydL3q9fz",
        "outputId": "77c1de90-7ef7-42ed-822f-7f146a4192e1"
      },
      "execution_count": 5,
      "outputs": [
        {
          "output_type": "stream",
          "name": "stdout",
          "text": [
            "1 2\n",
            "Sum is: 3\n",
            "difference is: -1\n",
            "Product is: 2\n",
            "Div is: 0.5\n"
          ]
        }
      ]
    },
    {
      "cell_type": "markdown",
      "source": [
        "3. Write a Python program to create a class that represents a shape. Include methods to calculate its area and perimeter. Implement subclasses for different shapes like circle, triangle, and square."
      ],
      "metadata": {
        "id": "rCaOwn7wu1Zx"
      }
    },
    {
      "cell_type": "code",
      "source": [
        "class shape:\n",
        "  def area(self):\n",
        "    pass\n",
        "  def perimeter(self):\n",
        "    pass\n",
        "\n",
        "class circle(shape):\n",
        "  def __init__(self,r):\n",
        "    self.radius = int(r)\n",
        "\n",
        "  def area(self):\n",
        "    area = 3.14*self.radius**2\n",
        "    print(f'Area of circle is:{area}')\n",
        "\n",
        "  def perimeter(self):\n",
        "    p = 2*3.14*self.radius\n",
        "    print(f'Perimeter of circle is:{p}')\n",
        "\n",
        "class triangle(shape):\n",
        "  def __init__(self,a,b,c):\n",
        "    self.a = int(a)\n",
        "    self.b = int(b)\n",
        "    self.c = int(c)\n",
        "\n",
        "  def perimeter(self):\n",
        "    p = self.a+self.b+self.c\n",
        "    print(f'Perimeter of Triangle is:{p}')\n",
        "\n",
        "  def area(self):\n",
        "    s = (self.a+self.b+self.c)/2\n",
        "    area = (s*(s-self.a)*(s-self.b)*(s-self.c))**0.5\n",
        "    print(f'Area of triangle is:{area}')\n",
        "\n",
        "class square(shape):\n",
        "  def __init__(self,a):\n",
        "    self.a = int(a)\n",
        "\n",
        "  def perimeter(self):\n",
        "    p = 4*self.a\n",
        "    print(f'Perimeter of square is:{p}')\n",
        "\n",
        "  def area(self):\n",
        "    area = self.a**2\n",
        "    print(f'Area of square is:{area}')\n",
        "circle1 = circle(2)\n",
        "circle1.area()\n",
        "circle1.perimeter()\n",
        "triangle1 = triangle(5,4,3)\n",
        "triangle1.area()\n",
        "triangle1.perimeter()\n",
        "square1 = square(4)\n",
        "square1.area()\n",
        "square1.perimeter()\n",
        "\n"
      ],
      "metadata": {
        "colab": {
          "base_uri": "https://localhost:8080/"
        },
        "id": "oJU207sFvDcp",
        "outputId": "508078ec-39c4-4ab9-8d02-b3afd374b1c8"
      },
      "execution_count": 35,
      "outputs": [
        {
          "output_type": "stream",
          "name": "stdout",
          "text": [
            "Area of circle is:12.56\n",
            "Perimeter of circle is:12.56\n",
            "Area of triangle is:6.0\n",
            "Perimeter of Triangle is:12\n",
            "Area of square is:16\n",
            "Perimeter of square is:16\n"
          ]
        }
      ]
    }
  ]
}