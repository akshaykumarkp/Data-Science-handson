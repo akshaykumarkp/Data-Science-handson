{
  "nbformat": 4,
  "nbformat_minor": 0,
  "metadata": {
    "colab": {
      "provenance": []
    },
    "kernelspec": {
      "name": "python3",
      "display_name": "Python 3"
    },
    "language_info": {
      "name": "python"
    }
  },
  "cells": [
    {
      "cell_type": "markdown",
      "source": [
        "**Exercise 1: Create a function with a default argument**\n",
        "Write a program to create a function show_employee() using the following conditions.\n",
        "It should accept the employee’s name and salary and display both.\n",
        "If the salary is missing in the function call then assign default value 9000 to salary\n",
        "Given:\n",
        "showEmployee(\"Ben\", 12000)\n",
        "showEmployee(\"Jessa\")\n",
        "Expected output:\n",
        "Name: Ben salary: 12000\n",
        "Name: Jessa salary: 9000\n"
      ],
      "metadata": {
        "id": "srceyKWUha95"
      }
    },
    {
      "cell_type": "code",
      "source": [
        "def show_employee(name,salary=9000):\n",
        "  print(\"Name:\",name,\"Salary:\",salary)\n",
        "show_employee(\"Akshay\")\n"
      ],
      "metadata": {
        "colab": {
          "base_uri": "https://localhost:8080/"
        },
        "id": "X7PmFau8hhHL",
        "outputId": "86d38883-4e7c-43d4-d403-b243d04f3f5c"
      },
      "execution_count": null,
      "outputs": [
        {
          "output_type": "stream",
          "name": "stdout",
          "text": [
            "Name: Akshay Salary: 9000\n"
          ]
        }
      ]
    },
    {
      "cell_type": "markdown",
      "source": [
        "**Exercise 2: Create an inner function to calculate the addition in the following way**\n",
        "Create an outer function that will accept two parameters, a and b\n",
        "Create an inner function inside an outer function that will calculate the addition of a and b\n",
        "At last, an outer function will add 5 into addition and return it\n"
      ],
      "metadata": {
        "id": "Q7zoh63jk9N2"
      }
    },
    {
      "cell_type": "code",
      "source": [
        "def outfn(a,b):\n",
        "  def infn(a,b):\n",
        "    return a+b\n",
        "  x = infn(a,b)+5\n",
        "  return x\n",
        "outfn(5,10)\n"
      ],
      "metadata": {
        "colab": {
          "base_uri": "https://localhost:8080/"
        },
        "id": "5fATEhRdlQAb",
        "outputId": "74dbc14a-5321-4322-fac9-37df77cd2548"
      },
      "execution_count": null,
      "outputs": [
        {
          "output_type": "execute_result",
          "data": {
            "text/plain": [
              "20"
            ]
          },
          "metadata": {},
          "execution_count": 15
        }
      ]
    },
    {
      "cell_type": "markdown",
      "source": [
        "**Exercise 3: Generate a Python list of all the even numbers between 4 to 30**"
      ],
      "metadata": {
        "id": "LVT1ZUromRrh"
      }
    },
    {
      "cell_type": "code",
      "source": [
        "l = []\n",
        "for x in range(4,30):\n",
        "  if x%2==0:\n",
        "    l.append(x)\n",
        "print(l)"
      ],
      "metadata": {
        "colab": {
          "base_uri": "https://localhost:8080/"
        },
        "id": "XOlBeEGImZnK",
        "outputId": "1e06d2e9-e587-4b56-9e14-7d0bcfb61492"
      },
      "execution_count": null,
      "outputs": [
        {
          "output_type": "stream",
          "name": "stdout",
          "text": [
            "[4, 6, 8, 10, 12, 14, 16, 18, 20, 22, 24, 26, 28]\n"
          ]
        }
      ]
    },
    {
      "cell_type": "markdown",
      "source": [
        "**Exercise 4: Lambda Function to Check if value is in a List**\n",
        "Given a list, the task is to write a Python program to check if the value exists in the list or not using the lambda function.\n",
        "\n",
        "\n",
        "Input  : L = [1, 2, 3, 4, 5]\n",
        "          element = 4\n",
        "Output :  Element is Present in the list\n",
        "\n",
        "Input :  L = [1, 2, 3, 4, 5]\n",
        "          element = 8\n",
        "Output :  Element is NOT Present in the list\n"
      ],
      "metadata": {
        "id": "_c8DpN2YmwZp"
      }
    },
    {
      "cell_type": "code",
      "source": [
        "l = list(input(\"Enter the list: \"))\n",
        "c = input()\n",
        "def checknum(x):\n",
        "  if x in l:\n",
        "    return 'yes'\n",
        "  else:\n",
        "    return 'no'\n",
        "a = lambda y:checknum(y)\n",
        "print(str(a))\n",
        "\n"
      ],
      "metadata": {
        "colab": {
          "base_uri": "https://localhost:8080/"
        },
        "id": "lx25_KFenIjq",
        "outputId": "c7660f6e-7f14-4516-94e5-52e020d95096"
      },
      "execution_count": 11,
      "outputs": [
        {
          "output_type": "stream",
          "name": "stdout",
          "text": [
            "Enter the list: 2 3 4 5\n",
            "2\n",
            "<function <lambda> at 0x78eed6e83d90>\n"
          ]
        }
      ]
    },
    {
      "cell_type": "markdown",
      "source": [
        "**Exercise 5: Sort list of tuples with their sum**\n",
        "Sort the points based on their sum of elements in the tuples\n",
        "\n",
        "points = [(1, 2), (5, 3), (0, 7), (3, 1)]\n"
      ],
      "metadata": {
        "id": "OPnXPl67ydDX"
      }
    },
    {
      "cell_type": "code",
      "source": [
        "l = [(1, 2), (5, 3), (0, 7), (3, 1)]\n",
        "l.sort(key=lambda x:x[0]+x[1],reverse=True)\n",
        "print(l)"
      ],
      "metadata": {
        "colab": {
          "base_uri": "https://localhost:8080/"
        },
        "id": "jWoyzZxOylXO",
        "outputId": "7636f6df-aaf3-48a3-fa6c-5853b49729bb"
      },
      "execution_count": null,
      "outputs": [
        {
          "output_type": "stream",
          "name": "stdout",
          "text": [
            "[(5, 3), (0, 7), (3, 1), (1, 2)]\n"
          ]
        }
      ]
    },
    {
      "cell_type": "code",
      "source": [
        "a = int(input())\n",
        "b = [i for i in range(a)]   #list comprehension\n",
        "print(b)"
      ],
      "metadata": {
        "colab": {
          "base_uri": "https://localhost:8080/"
        },
        "id": "FBYioY9_WfIv",
        "outputId": "dcc2b260-4f2b-4be0-9479-08d55ea078b6"
      },
      "execution_count": null,
      "outputs": [
        {
          "output_type": "stream",
          "name": "stdout",
          "text": [
            "9\n",
            "[0, 1, 2, 3, 4, 5, 6, 7, 8]\n"
          ]
        }
      ]
    },
    {
      "cell_type": "code",
      "source": [],
      "metadata": {
        "colab": {
          "base_uri": "https://localhost:8080/"
        },
        "id": "U-bH7jmIWiAc",
        "outputId": "b2f33694-753f-4cc1-9b18-fd91ea383f70"
      },
      "execution_count": null,
      "outputs": [
        {
          "output_type": "stream",
          "name": "stdout",
          "text": [
            "Enter no of sides: 3\n",
            "Enter Side 1: 2\n",
            "Enter Side 2: 3\n",
            "Enter Side 3: 4\n",
            "Area:  24\n"
          ]
        }
      ]
    },
    {
      "cell_type": "markdown",
      "source": [
        "**Exercise 6 :**\n",
        "Write a python function, which will find all such numbers between 1000 and 3000 (both included) such that each digit of the number is an even number. Return the results as a list\n"
      ],
      "metadata": {
        "id": "J7HicutzCdOJ"
      }
    },
    {
      "cell_type": "code",
      "source": [
        "\n",
        "# def allEven(x):\n",
        "#   a = str(x)\n",
        "#   a.split\n",
        "# l = []\n",
        "# for i in range(1000,3001):\n",
        "#   l.append(i)\n",
        "# print(l)\n",
        "a = [1000,1029,2736,8888]\n",
        "b = [str(i) for i in a]\n",
        "# c = [*b]\n",
        "print(b)\n",
        "# c = [eval(i) for i in c]\n",
        "d = [[*x] for x in b]\n",
        "# print(c)\n",
        "# for x in b:\n",
        "#   if x%2==0 and x!=0:\n",
        "#     d.append(x)\n",
        "print(d)\n",
        "n = 0\n",
        "newlist = []\n",
        "for x in d:\n",
        "  if int(x[0])%2==0 & int(x[1])%2==0 & int(x[2])%2==0 & int(x[3])%2==0 & int(x)!=0:\n",
        "    newlist.append(x)\n",
        "print(newlist)"
      ],
      "metadata": {
        "colab": {
          "base_uri": "https://localhost:8080/",
          "height": 280
        },
        "id": "J69vS7D3CtKO",
        "outputId": "851844af-175f-42f8-80bd-24972188aba9"
      },
      "execution_count": null,
      "outputs": [
        {
          "output_type": "stream",
          "name": "stdout",
          "text": [
            "['1000', '1029', '2736', '8888']\n",
            "[['1', '0', '0', '0'], ['1', '0', '2', '9'], ['2', '7', '3', '6'], ['8', '8', '8', '8']]\n"
          ]
        },
        {
          "output_type": "error",
          "ename": "TypeError",
          "evalue": "int() argument must be a string, a bytes-like object or a real number, not 'list'",
          "traceback": [
            "\u001b[0;31m---------------------------------------------------------------------------\u001b[0m",
            "\u001b[0;31mTypeError\u001b[0m                                 Traceback (most recent call last)",
            "\u001b[0;32m<ipython-input-18-beaa5dca8768>\u001b[0m in \u001b[0;36m<cell line: 21>\u001b[0;34m()\u001b[0m\n\u001b[1;32m     20\u001b[0m \u001b[0mnewlist\u001b[0m \u001b[0;34m=\u001b[0m \u001b[0;34m[\u001b[0m\u001b[0;34m]\u001b[0m\u001b[0;34m\u001b[0m\u001b[0;34m\u001b[0m\u001b[0m\n\u001b[1;32m     21\u001b[0m \u001b[0;32mfor\u001b[0m \u001b[0mx\u001b[0m \u001b[0;32min\u001b[0m \u001b[0md\u001b[0m\u001b[0;34m:\u001b[0m\u001b[0;34m\u001b[0m\u001b[0;34m\u001b[0m\u001b[0m\n\u001b[0;32m---> 22\u001b[0;31m   \u001b[0;32mif\u001b[0m \u001b[0mint\u001b[0m\u001b[0;34m(\u001b[0m\u001b[0mx\u001b[0m\u001b[0;34m[\u001b[0m\u001b[0;36m0\u001b[0m\u001b[0;34m]\u001b[0m\u001b[0;34m)\u001b[0m\u001b[0;34m%\u001b[0m\u001b[0;36m2\u001b[0m\u001b[0;34m==\u001b[0m\u001b[0;36m0\u001b[0m \u001b[0;34m&\u001b[0m \u001b[0mint\u001b[0m\u001b[0;34m(\u001b[0m\u001b[0mx\u001b[0m\u001b[0;34m[\u001b[0m\u001b[0;36m1\u001b[0m\u001b[0;34m]\u001b[0m\u001b[0;34m)\u001b[0m\u001b[0;34m%\u001b[0m\u001b[0;36m2\u001b[0m\u001b[0;34m==\u001b[0m\u001b[0;36m0\u001b[0m \u001b[0;34m&\u001b[0m \u001b[0mint\u001b[0m\u001b[0;34m(\u001b[0m\u001b[0mx\u001b[0m\u001b[0;34m[\u001b[0m\u001b[0;36m2\u001b[0m\u001b[0;34m]\u001b[0m\u001b[0;34m)\u001b[0m\u001b[0;34m%\u001b[0m\u001b[0;36m2\u001b[0m\u001b[0;34m==\u001b[0m\u001b[0;36m0\u001b[0m \u001b[0;34m&\u001b[0m \u001b[0mint\u001b[0m\u001b[0;34m(\u001b[0m\u001b[0mx\u001b[0m\u001b[0;34m[\u001b[0m\u001b[0;36m3\u001b[0m\u001b[0;34m]\u001b[0m\u001b[0;34m)\u001b[0m\u001b[0;34m%\u001b[0m\u001b[0;36m2\u001b[0m\u001b[0;34m==\u001b[0m\u001b[0;36m0\u001b[0m \u001b[0;34m&\u001b[0m \u001b[0mint\u001b[0m\u001b[0;34m(\u001b[0m\u001b[0mx\u001b[0m\u001b[0;34m)\u001b[0m\u001b[0;34m!=\u001b[0m\u001b[0;36m0\u001b[0m\u001b[0;34m:\u001b[0m\u001b[0;34m\u001b[0m\u001b[0;34m\u001b[0m\u001b[0m\n\u001b[0m\u001b[1;32m     23\u001b[0m     \u001b[0mnewlist\u001b[0m\u001b[0;34m.\u001b[0m\u001b[0mappend\u001b[0m\u001b[0;34m(\u001b[0m\u001b[0mx\u001b[0m\u001b[0;34m)\u001b[0m\u001b[0;34m\u001b[0m\u001b[0;34m\u001b[0m\u001b[0m\n\u001b[1;32m     24\u001b[0m \u001b[0mprint\u001b[0m\u001b[0;34m(\u001b[0m\u001b[0mnewlist\u001b[0m\u001b[0;34m)\u001b[0m\u001b[0;34m\u001b[0m\u001b[0;34m\u001b[0m\u001b[0m\n",
            "\u001b[0;31mTypeError\u001b[0m: int() argument must be a string, a bytes-like object or a real number, not 'list'"
          ]
        }
      ]
    },
    {
      "cell_type": "markdown",
      "source": [
        "**Exercise 7 :**\n",
        "Write a python function that accepts a sentence and calculate and return the number of letters and digits.\n",
        "Suppose the following input is supplied to the program:\n",
        "hello world! 123\n",
        "Then, the output should be:\n",
        "LETTERS 10\n",
        "DIGITS 3\n"
      ],
      "metadata": {
        "id": "c-GdAOvsXtIN"
      }
    },
    {
      "cell_type": "code",
      "source": [
        "alphas = 'abcdefghijklmnopqrstuvwxyz'\n",
        "nums = '1234567890'\n",
        "alphalist = [*alphas]\n",
        "numlist = [*nums]\n",
        "c1 = 0\n",
        "c2 = 0\n",
        "string = input(\"Enter a string: \")\n",
        "for s in string:\n",
        "  if s in alphalist:\n",
        "    c1+=1\n",
        "  if s in numlist:\n",
        "    c2+=1\n",
        "print(\"No of Alphabets:\",c1, \"\\nNo of digits:\",c2)"
      ],
      "metadata": {
        "colab": {
          "base_uri": "https://localhost:8080/"
        },
        "id": "zadOrrCDVret",
        "outputId": "6d0f48c8-55da-475a-e9cb-4cf526371dc9"
      },
      "execution_count": null,
      "outputs": [
        {
          "output_type": "stream",
          "name": "stdout",
          "text": [
            "Enter a string: wsjdha 983 fkje9\n",
            "No of Alphabets: 10 \n",
            "No of digits: 4\n"
          ]
        }
      ]
    },
    {
      "cell_type": "markdown",
      "source": [
        "**Exercise 8  MAP: **\n",
        "Write a Python program to convert all the characters into uppercase and lowercase and eliminate duplicate letters from a given sequence. Use the map() function\n"
      ],
      "metadata": {
        "id": "Pe212ugNkJM0"
      }
    },
    {
      "cell_type": "code",
      "source": [
        "\n",
        "def removeduplicates(x):\n",
        "  l = []\n",
        "  x = x.upper()           #x = x.swapcase() can be used to swap the cases. i.e,\n",
        "                                          #upper if lower and vice versa\n",
        "  if x not in l:\n",
        "    l.append(x)\n",
        "    return x\n",
        "a = input('Enter a string: ')\n",
        "b = map(removeduplicates,a)\n",
        "print(set(b))\n"
      ],
      "metadata": {
        "colab": {
          "base_uri": "https://localhost:8080/"
        },
        "id": "2ZRrMEJ0kLFM",
        "outputId": "da5c6b9a-532a-42d3-e0e5-003399d8e5e2"
      },
      "execution_count": null,
      "outputs": [
        {
          "output_type": "stream",
          "name": "stdout",
          "text": [
            "Enter a string: akshaykumarkp\n",
            "{'H', 'P', 'Y', 'A', 'R', 'U', 'S', 'M', 'K'}\n"
          ]
        }
      ]
    },
    {
      "cell_type": "markdown",
      "source": [
        "Exercise 9 MAP:\n",
        " Write a Python program to element wise add two given lists and find the difference between them. Use the map() function\n"
      ],
      "metadata": {
        "id": "8ln5h3TtrD3V"
      }
    },
    {
      "cell_type": "code",
      "source": [
        "l1 = [1,3,2,3,4,5,6]\n",
        "l2 = [6,7,4,8,5,7,5]\n",
        "sum = map(lambda a,b:a+b,l1,l2)\n",
        "diff = map(lambda a,b: a-b,l2,l1)\n",
        "print(f'Sum: {list(sum)}\\nDifference: {list(diff)}')"
      ],
      "metadata": {
        "colab": {
          "base_uri": "https://localhost:8080/"
        },
        "id": "TX-J6SBYrIid",
        "outputId": "21bcab41-a274-4414-e2eb-f1e320dae4e1"
      },
      "execution_count": null,
      "outputs": [
        {
          "output_type": "stream",
          "name": "stdout",
          "text": [
            "Sum: [7, 10, 6, 11, 9, 12, 11]\n",
            "Difference: [5, 4, 2, 5, 1, 2, -1]\n"
          ]
        }
      ]
    },
    {
      "cell_type": "markdown",
      "source": [
        "**Exercise 10 Filter:**\n",
        "Write a Python program to filter the height and weight of students, which are stored in a dictionary using lambda.\n",
        "Original Dictionary:\n",
        "{'Cierra Vega': (6.2, 71), 'Alden Cantrell': (5.9, 65), 'Kierra Gentry': (6.0, 68), 'Pierre Cox': (5.8, 66)}\n",
        "Height> 6ft and Weight> 70kg:\n",
        "{'Cierra Vega': (6.2, 71)}\n"
      ],
      "metadata": {
        "id": "4l82t-b4tb0j"
      }
    },
    {
      "cell_type": "code",
      "source": [
        "studentdict = {'Cierra Vega': (6.2, 71), 'Alden Cantrell': (5.9, 65), 'Kierra Gentry': (6.0, 68), 'Pierre Cox': (5.8, 66)}\n",
        "newdict = {name:(height,weight) for name,(height,weight) in studentdict.items() if height>6 and weight>70}\n",
        "print(newdict)\n",
        "\n"
      ],
      "metadata": {
        "colab": {
          "base_uri": "https://localhost:8080/"
        },
        "id": "_P4JfeuxtqDm",
        "outputId": "5fbad7b2-363b-42b4-8ed2-b26ea51a2a0c"
      },
      "execution_count": null,
      "outputs": [
        {
          "output_type": "stream",
          "name": "stdout",
          "text": [
            "{'Cierra Vega': (6.2, 71)}\n"
          ]
        }
      ]
    },
    {
      "cell_type": "markdown",
      "source": [
        "**Exercise 11 Filter: **\n",
        "Write a Python program to remove all elements from a given list present in another list using lambda.\n",
        "Original lists:\n",
        "list1: [1, 2, 3, 4, 5, 6, 7, 8, 9, 10]\n",
        "list2: [2, 4, 6, 8]\n",
        "Remove all elements from 'list1' present in 'list2:\n",
        "[1, 3, 5, 7, 9, 10]\n"
      ],
      "metadata": {
        "id": "NCzBXYtdGYf5"
      }
    },
    {
      "cell_type": "code",
      "source": [
        "list1 = [1, 2, 3, 4, 5, 6, 7, 8, 9, 10]\n",
        "list2 = [2, 4, 6, 8]\n",
        "l = filter(lambda x: x not in list2,list1)\n",
        "print(list(l))"
      ],
      "metadata": {
        "colab": {
          "base_uri": "https://localhost:8080/"
        },
        "id": "7nCvNDaiGaT2",
        "outputId": "0cfdb722-0bdd-4c58-d975-26e801488bc6"
      },
      "execution_count": null,
      "outputs": [
        {
          "output_type": "stream",
          "name": "stdout",
          "text": [
            "[1, 3, 5, 7, 9, 10]\n"
          ]
        }
      ]
    },
    {
      "cell_type": "markdown",
      "source": [
        "**Exercise 12 Reduce: **\n",
        "\n",
        "\n",
        "Write a Python program to calculate the product of a given list of numbers using lambda.\n",
        "list1: [1, 2, 3, 4, 5, 6, 7, 8, 9, 10]\n",
        "Product of the said list numbers:\n",
        "3628800\n"
      ],
      "metadata": {
        "id": "T-YTjREjL2nL"
      }
    },
    {
      "cell_type": "code",
      "source": [
        "import functools as fn\n",
        "list1 = [1, 2, 3, 4, 5, 6, 7, 8, 9, 10]\n",
        "x = fn.reduce(lambda a,b: a*b,list1)\n",
        "print(x)\n",
        "\n",
        "# CONVENTIONAL METHOD\n",
        "# --------------------\n",
        "# prod = 1\n",
        "# for x in list1:\n",
        "#   prod = prod*x\n",
        "# print(prod)"
      ],
      "metadata": {
        "colab": {
          "base_uri": "https://localhost:8080/"
        },
        "id": "WHalKeiSMQ4Q",
        "outputId": "db8c8918-bb94-4810-c89c-09dbef6ae35c"
      },
      "execution_count": null,
      "outputs": [
        {
          "output_type": "stream",
          "name": "stdout",
          "text": [
            "3628800\n"
          ]
        }
      ]
    },
    {
      "cell_type": "markdown",
      "source": [
        "Exercise 13 Reduce:\n",
        "\n",
        "\n",
        " Write a Python program to multiply all the numbers in a given list using lambda.\n",
        "Original list:\n",
        "[4, 3, 2, 2, -1, 18]\n",
        "Mmultiply all the numbers of the said list: -864\n"
      ],
      "metadata": {
        "id": "NbVLOhN_OAhe"
      }
    },
    {
      "cell_type": "code",
      "source": [
        "import functools as fn\n",
        "l1 = [4, 3, 2, 2, -1, 18]\n",
        "x = fn.reduce(lambda a,b: a*b,l1)\n",
        "print(x)"
      ],
      "metadata": {
        "colab": {
          "base_uri": "https://localhost:8080/"
        },
        "id": "O_xbsmntOUt8",
        "outputId": "e50ef5a2-a182-4758-acaf-e24b7de385b5"
      },
      "execution_count": null,
      "outputs": [
        {
          "output_type": "stream",
          "name": "stdout",
          "text": [
            "-864\n"
          ]
        }
      ]
    },
    {
      "cell_type": "markdown",
      "source": [
        "Exercise 14 Reduce:\n",
        "\n",
        "\n",
        "Write a Python program to calculate the average value of the numbers in a given tuple of tuples using lambda.\n",
        "Original Tuple:\n",
        "((10, 10, 10), (30, 45, 56), (81, 80, 39), (1, 2, 3))\n",
        "Average value of the numbers of the said tuple of tuples:\n",
        "(30.5, 34.25, 27.0)\n"
      ],
      "metadata": {
        "id": "LY9zNcmNOyhH"
      }
    },
    {
      "cell_type": "code",
      "source": [],
      "metadata": {
        "id": "sTwAFqbsQvzR"
      },
      "execution_count": null,
      "outputs": []
    },
    {
      "cell_type": "code",
      "source": [
        "import functools as fn\n",
        "t1 = ((10, 10, 10), (30, 45, 56), (81, 80, 39), (1, 2, 3))\n",
        "x = list(fn.reduce(lambda a,b: a[0]+b[1],t1))\n",
        "print(x)"
      ],
      "metadata": {
        "colab": {
          "base_uri": "https://localhost:8080/",
          "height": 332
        },
        "id": "-K4f00L_O2oA",
        "outputId": "4cbaaaf5-00ba-401b-d320-8ec5113c4405"
      },
      "execution_count": null,
      "outputs": [
        {
          "output_type": "error",
          "ename": "TypeError",
          "evalue": "'int' object is not subscriptable",
          "traceback": [
            "\u001b[0;31m---------------------------------------------------------------------------\u001b[0m",
            "\u001b[0;31mTypeError\u001b[0m                                 Traceback (most recent call last)",
            "\u001b[0;32m<ipython-input-81-990b4f1d17fa>\u001b[0m in \u001b[0;36m<cell line: 3>\u001b[0;34m()\u001b[0m\n\u001b[1;32m      1\u001b[0m \u001b[0;32mimport\u001b[0m \u001b[0mfunctools\u001b[0m \u001b[0;32mas\u001b[0m \u001b[0mfn\u001b[0m\u001b[0;34m\u001b[0m\u001b[0;34m\u001b[0m\u001b[0m\n\u001b[1;32m      2\u001b[0m \u001b[0mt1\u001b[0m \u001b[0;34m=\u001b[0m \u001b[0;34m(\u001b[0m\u001b[0;34m(\u001b[0m\u001b[0;36m10\u001b[0m\u001b[0;34m,\u001b[0m \u001b[0;36m10\u001b[0m\u001b[0;34m,\u001b[0m \u001b[0;36m10\u001b[0m\u001b[0;34m)\u001b[0m\u001b[0;34m,\u001b[0m \u001b[0;34m(\u001b[0m\u001b[0;36m30\u001b[0m\u001b[0;34m,\u001b[0m \u001b[0;36m45\u001b[0m\u001b[0;34m,\u001b[0m \u001b[0;36m56\u001b[0m\u001b[0;34m)\u001b[0m\u001b[0;34m,\u001b[0m \u001b[0;34m(\u001b[0m\u001b[0;36m81\u001b[0m\u001b[0;34m,\u001b[0m \u001b[0;36m80\u001b[0m\u001b[0;34m,\u001b[0m \u001b[0;36m39\u001b[0m\u001b[0;34m)\u001b[0m\u001b[0;34m,\u001b[0m \u001b[0;34m(\u001b[0m\u001b[0;36m1\u001b[0m\u001b[0;34m,\u001b[0m \u001b[0;36m2\u001b[0m\u001b[0;34m,\u001b[0m \u001b[0;36m3\u001b[0m\u001b[0;34m)\u001b[0m\u001b[0;34m)\u001b[0m\u001b[0;34m\u001b[0m\u001b[0;34m\u001b[0m\u001b[0m\n\u001b[0;32m----> 3\u001b[0;31m \u001b[0mx\u001b[0m \u001b[0;34m=\u001b[0m \u001b[0mlist\u001b[0m\u001b[0;34m(\u001b[0m\u001b[0mfn\u001b[0m\u001b[0;34m.\u001b[0m\u001b[0mreduce\u001b[0m\u001b[0;34m(\u001b[0m\u001b[0;32mlambda\u001b[0m \u001b[0ma\u001b[0m\u001b[0;34m,\u001b[0m\u001b[0mb\u001b[0m\u001b[0;34m:\u001b[0m \u001b[0ma\u001b[0m\u001b[0;34m[\u001b[0m\u001b[0;36m0\u001b[0m\u001b[0;34m]\u001b[0m\u001b[0;34m+\u001b[0m\u001b[0mb\u001b[0m\u001b[0;34m[\u001b[0m\u001b[0;36m1\u001b[0m\u001b[0;34m]\u001b[0m\u001b[0;34m,\u001b[0m\u001b[0mt1\u001b[0m\u001b[0;34m)\u001b[0m\u001b[0;34m)\u001b[0m\u001b[0;34m\u001b[0m\u001b[0;34m\u001b[0m\u001b[0m\n\u001b[0m\u001b[1;32m      4\u001b[0m \u001b[0mprint\u001b[0m\u001b[0;34m(\u001b[0m\u001b[0mx\u001b[0m\u001b[0;34m)\u001b[0m\u001b[0;34m\u001b[0m\u001b[0;34m\u001b[0m\u001b[0m\n",
            "\u001b[0;32m<ipython-input-81-990b4f1d17fa>\u001b[0m in \u001b[0;36m<lambda>\u001b[0;34m(a, b)\u001b[0m\n\u001b[1;32m      1\u001b[0m \u001b[0;32mimport\u001b[0m \u001b[0mfunctools\u001b[0m \u001b[0;32mas\u001b[0m \u001b[0mfn\u001b[0m\u001b[0;34m\u001b[0m\u001b[0;34m\u001b[0m\u001b[0m\n\u001b[1;32m      2\u001b[0m \u001b[0mt1\u001b[0m \u001b[0;34m=\u001b[0m \u001b[0;34m(\u001b[0m\u001b[0;34m(\u001b[0m\u001b[0;36m10\u001b[0m\u001b[0;34m,\u001b[0m \u001b[0;36m10\u001b[0m\u001b[0;34m,\u001b[0m \u001b[0;36m10\u001b[0m\u001b[0;34m)\u001b[0m\u001b[0;34m,\u001b[0m \u001b[0;34m(\u001b[0m\u001b[0;36m30\u001b[0m\u001b[0;34m,\u001b[0m \u001b[0;36m45\u001b[0m\u001b[0;34m,\u001b[0m \u001b[0;36m56\u001b[0m\u001b[0;34m)\u001b[0m\u001b[0;34m,\u001b[0m \u001b[0;34m(\u001b[0m\u001b[0;36m81\u001b[0m\u001b[0;34m,\u001b[0m \u001b[0;36m80\u001b[0m\u001b[0;34m,\u001b[0m \u001b[0;36m39\u001b[0m\u001b[0;34m)\u001b[0m\u001b[0;34m,\u001b[0m \u001b[0;34m(\u001b[0m\u001b[0;36m1\u001b[0m\u001b[0;34m,\u001b[0m \u001b[0;36m2\u001b[0m\u001b[0;34m,\u001b[0m \u001b[0;36m3\u001b[0m\u001b[0;34m)\u001b[0m\u001b[0;34m)\u001b[0m\u001b[0;34m\u001b[0m\u001b[0;34m\u001b[0m\u001b[0m\n\u001b[0;32m----> 3\u001b[0;31m \u001b[0mx\u001b[0m \u001b[0;34m=\u001b[0m \u001b[0mlist\u001b[0m\u001b[0;34m(\u001b[0m\u001b[0mfn\u001b[0m\u001b[0;34m.\u001b[0m\u001b[0mreduce\u001b[0m\u001b[0;34m(\u001b[0m\u001b[0;32mlambda\u001b[0m \u001b[0ma\u001b[0m\u001b[0;34m,\u001b[0m\u001b[0mb\u001b[0m\u001b[0;34m:\u001b[0m \u001b[0ma\u001b[0m\u001b[0;34m[\u001b[0m\u001b[0;36m0\u001b[0m\u001b[0;34m]\u001b[0m\u001b[0;34m+\u001b[0m\u001b[0mb\u001b[0m\u001b[0;34m[\u001b[0m\u001b[0;36m1\u001b[0m\u001b[0;34m]\u001b[0m\u001b[0;34m,\u001b[0m\u001b[0mt1\u001b[0m\u001b[0;34m)\u001b[0m\u001b[0;34m)\u001b[0m\u001b[0;34m\u001b[0m\u001b[0;34m\u001b[0m\u001b[0m\n\u001b[0m\u001b[1;32m      4\u001b[0m \u001b[0mprint\u001b[0m\u001b[0;34m(\u001b[0m\u001b[0mx\u001b[0m\u001b[0;34m)\u001b[0m\u001b[0;34m\u001b[0m\u001b[0;34m\u001b[0m\u001b[0m\n",
            "\u001b[0;31mTypeError\u001b[0m: 'int' object is not subscriptable"
          ]
        }
      ]
    },
    {
      "cell_type": "markdown",
      "source": [
        "Exercise 15:\n",
        "\n",
        "\n",
        "Write a Python program to sort a given mixed list of integers and strings using lambda. Numbers must be sorted before strings.\n",
        "Original list:\n",
        "[19, 'red', 12, 'green', 'blue', 10, 'white', 'green', 1]\n",
        "Sort the said mixed list of integers and strings:\n",
        "[1, 10, 12, 19, 'blue', 'green', 'green', 'red', 'white']\n"
      ],
      "metadata": {
        "id": "WyIJS8vGc_7T"
      }
    },
    {
      "cell_type": "code",
      "source": [
        "a = [19, 'red', 12, 'green', 'blue', 10, 'white', 'green', 1]\n",
        "a.sort(key=lambda x:(isinstance(x,str),x))\n",
        "print(a)                                      #googled after so many tries"
      ],
      "metadata": {
        "colab": {
          "base_uri": "https://localhost:8080/"
        },
        "id": "uQ1qtudGdEPA",
        "outputId": "a4fb629c-5642-46a5-e860-c0b410f5902f"
      },
      "execution_count": null,
      "outputs": [
        {
          "output_type": "stream",
          "name": "stdout",
          "text": [
            "[1, 10, 12, 19, 'blue', 'green', 'green', 'red', 'white']\n"
          ]
        }
      ]
    },
    {
      "cell_type": "markdown",
      "source": [
        "Exercise 16:\n",
        "Write a Python program to count the occurrences of items in a given list using lambda.\n",
        "Original list:\n",
        "[3, 4, 5, 8, 0, 3, 8, 5, 0, 3, 1, 5, 2, 3, 4, 2]\n",
        "Count the occurrences of the items in the said list:\n",
        "{3: 4, 4: 2, 5: 3, 8: 2, 0: 2, 1: 1, 2: 2}\n"
      ],
      "metadata": {
        "id": "zVwXycQimE9v"
      }
    },
    {
      "cell_type": "code",
      "source": [
        "l = [3, 4, 5, 8, 0, 3, 8, 5, 0, 3, 1, 5, 2, 3, 4, 2]\n",
        "b = {x:l.count(x) for x in l}                            # couldn't do it using lambda function. So used dict comprehension.\n",
        "print(b)"
      ],
      "metadata": {
        "id": "Ng4lKQManX91",
        "colab": {
          "base_uri": "https://localhost:8080/"
        },
        "outputId": "2e1ebcaf-7755-444d-cc1f-8a1db7a46727"
      },
      "execution_count": 2,
      "outputs": [
        {
          "output_type": "stream",
          "name": "stdout",
          "text": [
            "{3: 4, 4: 2, 5: 3, 8: 2, 0: 2, 1: 1, 2: 2}\n"
          ]
        }
      ]
    },
    {
      "cell_type": "markdown",
      "source": [
        "Exercise 17:\n",
        "\n",
        "\n",
        "Write a Python program to remove None values from a given list using the lambda function.\n",
        "Original list:\n",
        "[12, 0, None, 23, None, -55, 234, 89, None, 0, 6, -12]\n",
        "Remove None value from the said list:\n",
        "[12, 0, 23, -55, 234, 89, 0, 6, -12]\n"
      ],
      "metadata": {
        "id": "5T49GYCiLfsi"
      }
    },
    {
      "cell_type": "code",
      "source": [
        "l = [12, 0, None, 23, None, -55, 234, 89, None, 0, 6, -12]\n",
        "a = filter(lambda x: isinstance(x,int),l)\n",
        "print(list(a))"
      ],
      "metadata": {
        "colab": {
          "base_uri": "https://localhost:8080/"
        },
        "id": "UHVBctfbLggG",
        "outputId": "385f55a5-9a37-4b5a-b105-39b627b4e624"
      },
      "execution_count": 9,
      "outputs": [
        {
          "output_type": "stream",
          "name": "stdout",
          "text": [
            "[12, 0, 23, -55, 234, 89, 0, 6, -12]\n"
          ]
        }
      ]
    }
  ]
}