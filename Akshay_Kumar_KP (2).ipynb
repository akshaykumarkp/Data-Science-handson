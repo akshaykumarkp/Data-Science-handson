{
  "nbformat": 4,
  "nbformat_minor": 0,
  "metadata": {
    "colab": {
      "provenance": []
    },
    "kernelspec": {
      "name": "python3",
      "display_name": "Python 3"
    },
    "language_info": {
      "name": "python"
    }
  },
  "cells": [
    {
      "cell_type": "markdown",
      "source": [
        "1. Write a Python program to sum all the items in a list.\n"
      ],
      "metadata": {
        "id": "WbWqfjLILpYR"
      }
    },
    {
      "cell_type": "code",
      "execution_count": 1,
      "metadata": {
        "id": "IeHCdrS5KBAJ",
        "colab": {
          "base_uri": "https://localhost:8080/"
        },
        "outputId": "b7649947-077d-45d5-a58c-e26a4c83d7ca"
      },
      "outputs": [
        {
          "output_type": "stream",
          "name": "stdout",
          "text": [
            "21\n"
          ]
        }
      ],
      "source": [
        "l = [1,2,3,4,5,6]\n",
        "sum = 0\n",
        "for items in l:\n",
        "  sum+=items\n",
        "print(sum)"
      ]
    },
    {
      "cell_type": "markdown",
      "source": [
        "2. Write a Python program to get the largest number from a list.\n"
      ],
      "metadata": {
        "id": "1NgXL_KTLulQ"
      }
    },
    {
      "cell_type": "code",
      "source": [
        "l = [1,2,3,4,5,6]\n",
        "largest = 0\n",
        "for items in l:\n",
        "  if items>largest:\n",
        "    largest = items\n",
        "print(largest)"
      ],
      "metadata": {
        "id": "W4A2hjGBLsu0",
        "colab": {
          "base_uri": "https://localhost:8080/"
        },
        "outputId": "4d8f857c-029e-4927-c4ce-ca3d03be0ddb"
      },
      "execution_count": 2,
      "outputs": [
        {
          "output_type": "stream",
          "name": "stdout",
          "text": [
            "6\n"
          ]
        }
      ]
    },
    {
      "cell_type": "markdown",
      "source": [
        "3. Write a Python program to count the number of strings from a given list of strings. The string length is 2 or more and the first and last characters are the same.\n",
        "\n",
        "```\n",
        "Sample List : ['abc', 'xyz', 'aba', '1221']\n",
        "Expected Result : 2\n",
        "```"
      ],
      "metadata": {
        "id": "azKVRKqWLvtp"
      }
    },
    {
      "cell_type": "code",
      "source": [
        "a = ['abc', 'xyz', 'aba', '1221']\n",
        "b = []\n",
        "count = 0\n",
        "for words in a:\n",
        "  if len(words) > 2:\n",
        "    b.append(words)\n",
        "for i in b:\n",
        "  if i[0]==i[-1]:\n",
        "    count+=1\n",
        "print(count)"
      ],
      "metadata": {
        "id": "4C9UmcCRL1Bp",
        "colab": {
          "base_uri": "https://localhost:8080/"
        },
        "outputId": "09a280fb-be0b-461b-c616-404f6df027a9"
      },
      "execution_count": 3,
      "outputs": [
        {
          "output_type": "stream",
          "name": "stdout",
          "text": [
            "2\n"
          ]
        }
      ]
    },
    {
      "cell_type": "markdown",
      "source": [
        "4. Write a Python program to remove duplicates from a list.\n"
      ],
      "metadata": {
        "id": "2ZYOfK4rL20r"
      }
    },
    {
      "cell_type": "code",
      "source": [
        "duplicates = ['ajhs','abba','aa','1121','mango','dhhjhjhjd','cc','ajhs','abba','aa']\n",
        "unique = set(duplicates)\n",
        "print(unique)"
      ],
      "metadata": {
        "id": "A4Et_q6CL3Pb",
        "colab": {
          "base_uri": "https://localhost:8080/"
        },
        "outputId": "28e38005-22c5-4209-84c6-d6da37600fdb"
      },
      "execution_count": 4,
      "outputs": [
        {
          "output_type": "stream",
          "name": "stdout",
          "text": [
            "{'1121', 'abba', 'dhhjhjhjd', 'mango', 'ajhs', 'aa', 'cc'}\n"
          ]
        }
      ]
    },
    {
      "cell_type": "markdown",
      "source": [
        "5. Write a Python program to check if a list is empty or not.\n"
      ],
      "metadata": {
        "id": "kjtsEf0tL358"
      }
    },
    {
      "cell_type": "code",
      "source": [
        "e = []\n",
        "a = len(e)\n",
        "if a==0:\n",
        "  print(\"list is empty\")\n",
        "else:\n",
        "  print(\"list isn't empty\")"
      ],
      "metadata": {
        "id": "e1C-5rk7L5OT",
        "colab": {
          "base_uri": "https://localhost:8080/"
        },
        "outputId": "2af38cb3-1b01-4a2a-8e71-4f7729e94f14"
      },
      "execution_count": 5,
      "outputs": [
        {
          "output_type": "stream",
          "name": "stdout",
          "text": [
            "list is empty\n"
          ]
        }
      ]
    },
    {
      "cell_type": "markdown",
      "source": [
        "6. Write a Python program to filter the list if the length of the character is < 4\n",
        "\n",
        "```\n",
        "Sample List : ['abc', 'xyz', 'aba', '1221']\n",
        "Expected Result: ['abc', 'xyz', 'aba']\n",
        "```\n"
      ],
      "metadata": {
        "id": "HPq-j6_5L6Bu"
      }
    },
    {
      "cell_type": "code",
      "source": [
        "SampleList = ['abc', 'xyz', 'aba', '1221']\n",
        "lessthanfour = []\n",
        "for words in SampleList:\n",
        "  if len(words)<4:\n",
        "    lessthanfour.append(words)\n",
        "print(lessthanfour)"
      ],
      "metadata": {
        "id": "e0Rk_iusL-Du",
        "colab": {
          "base_uri": "https://localhost:8080/"
        },
        "outputId": "a20d8697-4799-44ce-fad2-6eacf83b1d6e"
      },
      "execution_count": 6,
      "outputs": [
        {
          "output_type": "stream",
          "name": "stdout",
          "text": [
            "['abc', 'xyz', 'aba']\n"
          ]
        }
      ]
    },
    {
      "cell_type": "markdown",
      "source": [
        "7.Write a Python program to find the second largest number in a list.\n"
      ],
      "metadata": {
        "id": "0Vo0Eo4GL_2N"
      }
    },
    {
      "cell_type": "code",
      "source": [
        "a = [1,9,2,1000,5,888,5,5,4,2,2,8,10]\n",
        "s=set(a)\n",
        "a=list(s)\n",
        "a.sort()\n",
        "\n",
        "print(a[-2])"
      ],
      "metadata": {
        "id": "uIB8bq0IMAYB",
        "colab": {
          "base_uri": "https://localhost:8080/"
        },
        "outputId": "15746528-312b-471e-aa9f-ba5644d38927"
      },
      "execution_count": 7,
      "outputs": [
        {
          "output_type": "stream",
          "name": "stdout",
          "text": [
            "888\n"
          ]
        }
      ]
    },
    {
      "cell_type": "markdown",
      "source": [
        "8. Write a Python program to reverse a list at a specific location.\n"
      ],
      "metadata": {
        "id": "aManSXvqMBoz"
      }
    },
    {
      "cell_type": "code",
      "source": [
        "a = [1,9,2,1000,5,888,5,5,4,2,2,8,10]\n",
        "b = a[3:]\n",
        "b.reverse()\n",
        "c=a[0:3]\n",
        "c.extend(b[2:3])\n",
        "print(c)\n",
        "\n",
        "#---------------------------------------------------#\n",
        "\n",
        "a = [1,9,2,1000,5,888,5,5,4,2,2,8,10]\n",
        "a[3:]=reversed(a[3:])                                #alternate and easy way to reverse string at specific location\n",
        "print(a)"
      ],
      "metadata": {
        "id": "6-xOhDjGMCO4",
        "colab": {
          "base_uri": "https://localhost:8080/"
        },
        "outputId": "0f825f7b-13fd-40a3-e931-f784d891e7ca"
      },
      "execution_count": 8,
      "outputs": [
        {
          "output_type": "stream",
          "name": "stdout",
          "text": [
            "[1, 9, 2, 2]\n"
          ]
        }
      ]
    },
    {
      "cell_type": "markdown",
      "source": [
        "9. Write a Python program to check if a list is a palindrome or not. Return true otherwise false.\n"
      ],
      "metadata": {
        "id": "-mIvdmfVMCyV"
      }
    },
    {
      "cell_type": "code",
      "source": [
        "word = input(\"Enter a word: \")\n",
        "a = [x for x in word]\n",
        "b = a.copy()\n",
        "b.reverse()\n",
        "if a == b:\n",
        "  print(\"True\")\n",
        "else:\n",
        "  print(\"False\")\n",
        "\n"
      ],
      "metadata": {
        "id": "128bnAjHMD_6",
        "colab": {
          "base_uri": "https://localhost:8080/"
        },
        "outputId": "f83f5d36-a56e-4b55-a18f-76013e241bf4"
      },
      "execution_count": 50,
      "outputs": [
        {
          "output_type": "stream",
          "name": "stdout",
          "text": [
            "Enter a word: malayalam\n",
            "True\n"
          ]
        }
      ]
    },
    {
      "cell_type": "markdown",
      "source": [
        "10. Write a Python a program to find the union and intersection of two lists.\n"
      ],
      "metadata": {
        "id": "r_OaahEUMFk9"
      }
    },
    {
      "cell_type": "code",
      "source": [
        "a = [1,2,3,4,5,6,7,8]\n",
        "b = [5,6,7,8,9,0]\n",
        "x = set(a)\n",
        "y = set(b)\n",
        "print(x.union(y))\n",
        "print(x.intersection(y))"
      ],
      "metadata": {
        "colab": {
          "base_uri": "https://localhost:8080/"
        },
        "id": "g5Rw-SMQMF7d",
        "outputId": "e08ab2f9-2df8-4c22-ae33-446bce805e11"
      },
      "execution_count": 53,
      "outputs": [
        {
          "output_type": "stream",
          "name": "stdout",
          "text": [
            "{0, 1, 2, 3, 4, 5, 6, 7, 8, 9}\n",
            "{8, 5, 6, 7}\n"
          ]
        }
      ]
    },
    {
      "cell_type": "markdown",
      "source": [
        "11.Write a Python script to sort (ascending and descending) a dictionary by value\n"
      ],
      "metadata": {
        "id": "O_KaZq9mMHMo"
      }
    },
    {
      "cell_type": "code",
      "source": [
        "mydict = {\"apple\": 3, \"banana\": 5, \"cherry\": 1, \"kiwi\": 4, \"melon\": 2}\n",
        "x = []\n",
        "for k,v in mydict.items():\n",
        "  x.append((k,v))\n",
        "x.sort(key = lambda a: a[1])\n",
        "# x.sort(key = lambda a: a[1],reverse=True)\n",
        "d = {i[0]:i[1] for i in x}\n",
        "print(d)\n",
        "\n"
      ],
      "metadata": {
        "id": "iMEgBD_5MHe5",
        "colab": {
          "base_uri": "https://localhost:8080/"
        },
        "outputId": "b1c21ebd-234c-4c3b-db37-2ff9ed6bff62"
      },
      "execution_count": 26,
      "outputs": [
        {
          "output_type": "stream",
          "name": "stdout",
          "text": [
            "None\n",
            "{'banana': 5, 'kiwi': 4, 'apple': 3, 'melon': 2, 'cherry': 1}\n"
          ]
        }
      ]
    },
    {
      "cell_type": "code",
      "source": [],
      "metadata": {
        "id": "e_3xZg48rn2F"
      },
      "execution_count": null,
      "outputs": []
    },
    {
      "cell_type": "markdown",
      "source": [
        "12. Write a Python script to check whether a given key already exists in a dictionary.\n"
      ],
      "metadata": {
        "id": "LRtPwyETMJFB"
      }
    },
    {
      "cell_type": "code",
      "source": [
        "mydict = {\"apple\": 3, \"banana\": 5, \"cherry\": 1, \"kiwi\": 4, \"melon\": 2}\n",
        "x = input(\"Enter the string to check: \")\n",
        "y = 0\n",
        "for k,v in mydict.items():\n",
        "  if x in k:\n",
        "    print(\"Yes, key already exists!!!\")\n",
        "    y = 1\n",
        "if y==0:\n",
        "  print(\"No, key doesn't exist\")\n",
        ""
      ],
      "metadata": {
        "id": "CzQHm4IWMJX5",
        "colab": {
          "base_uri": "https://localhost:8080/"
        },
        "outputId": "b10fb3ea-e7e3-41e6-f23a-42e258b00a52"
      },
      "execution_count": 11,
      "outputs": [
        {
          "output_type": "stream",
          "name": "stdout",
          "text": [
            "Enter the string to check: melon\n",
            "Yes, key already exists!!!\n"
          ]
        }
      ]
    },
    {
      "cell_type": "markdown",
      "source": [
        "13.Write a Python program to sum all the values in a dictionary.\n"
      ],
      "metadata": {
        "id": "ndM9xtBpMK7b"
      }
    },
    {
      "cell_type": "code",
      "source": [
        "mydict = {\"apple\": 3, \"banana\": 5, \"cherry\": 1, \"kiwi\": 4, \"melon\": 2}\n",
        "sum = 0\n",
        "for k,v in mydict.items():\n",
        "  sum = sum+v\n",
        "print(sum)"
      ],
      "metadata": {
        "id": "-UBNCNxbMLNa",
        "colab": {
          "base_uri": "https://localhost:8080/"
        },
        "outputId": "95baa017-c57f-4adc-b9b3-b8920ad9b0bf"
      },
      "execution_count": 13,
      "outputs": [
        {
          "output_type": "stream",
          "name": "stdout",
          "text": [
            "15\n"
          ]
        }
      ]
    },
    {
      "cell_type": "markdown",
      "source": [
        "14.Write a Python program to create a dictionary with a number and its corresponding square from 1 to input number. And also check if the input number is less than 10\n",
        "\n",
        "```\n",
        "Eg:\n",
        "Input : 3\n",
        "Output : {1:1, 2:4, 3:9}\n",
        "```"
      ],
      "metadata": {
        "id": "0qVfQATqMNdJ"
      }
    },
    {
      "cell_type": "code",
      "source": [
        "a = int(input(\"enter a number: \"))\n",
        "dct = {x:x**2 for x in range(1,a+1)}\n",
        "print(dct)"
      ],
      "metadata": {
        "id": "XCkHf-OvMPVf",
        "colab": {
          "base_uri": "https://localhost:8080/"
        },
        "outputId": "b36786e6-045c-441a-c49e-7c26e273968b"
      },
      "execution_count": 16,
      "outputs": [
        {
          "output_type": "stream",
          "name": "stdout",
          "text": [
            "enter a number: 4\n",
            "{1: 1, 2: 4, 3: 9, 4: 16}\n"
          ]
        }
      ]
    },
    {
      "cell_type": "markdown",
      "source": [
        "15.Write a Python program to sort a given dictionary by key.\n"
      ],
      "metadata": {
        "id": "5Ku1ZCBMMRGO"
      }
    },
    {
      "cell_type": "code",
      "source": [
        "mydict = {\"apple\": 3, \"banana\": 5, \"cherry\": 1, \"kiwi\": 4, \"melon\": 2}\n",
        "x = []\n",
        "for k,v in mydict.items():\n",
        "  x.append((k,v))\n",
        "x.sort(key = lambda a: a[0])\n",
        "# x.sort(key = lambda a: a[1],reverse=True)\n",
        "d = {i[0]:i[1] for i in x}\n",
        "print(d)"
      ],
      "metadata": {
        "id": "Uo1ha3q4MRaG",
        "colab": {
          "base_uri": "https://localhost:8080/"
        },
        "outputId": "4baf24fb-784d-4a14-f481-ab674e2533b4"
      },
      "execution_count": 27,
      "outputs": [
        {
          "output_type": "stream",
          "name": "stdout",
          "text": [
            "[('apple', 3), ('banana', 5), ('cherry', 1), ('kiwi', 4), ('melon', 2)]\n",
            "{'apple': 3, 'banana': 5, 'cherry': 1, 'kiwi': 4, 'melon': 2}\n"
          ]
        }
      ]
    },
    {
      "cell_type": "markdown",
      "source": [
        "16.  Write a Python program to create a dictionary from a string.\n",
        "\n",
        "```\n",
        "Note: Track the count of the letters from the string.\n",
        "Sample string : 'learnpython'\n",
        "Expected output: {'l': 1, 'e': 1, 'a': 1, 'r': 1, 'n': 2, 'p': 1, 'y': 1, 't': 1, 'h': 1, 'o': 1}\n",
        "\n",
        "```"
      ],
      "metadata": {
        "id": "VFB6DT7uMTCo"
      }
    },
    {
      "cell_type": "code",
      "source": [
        "s = 'learnpython'\n",
        "l = [letters for letters in s]\n",
        "d = {x:l.count(x) for x in l}\n",
        "print(d)"
      ],
      "metadata": {
        "id": "Pst-k-SZMTUo",
        "colab": {
          "base_uri": "https://localhost:8080/"
        },
        "outputId": "5234dc46-e62e-4723-991c-b395a01be6df"
      },
      "execution_count": 40,
      "outputs": [
        {
          "output_type": "stream",
          "name": "stdout",
          "text": [
            "{'l': 1, 'e': 1, 'a': 1, 'r': 1, 'n': 2, 'p': 1, 'y': 1, 't': 1, 'h': 1, 'o': 1}\n"
          ]
        }
      ]
    },
    {
      "cell_type": "markdown",
      "source": [
        "17. Write a Python program to get the top three items in a shop.\n",
        "\n",
        "```\n",
        "Sample data: {'item1': 45.50, 'item2':35, 'item3': 41.30, 'item4':55, 'item5': 24}\n",
        "\n",
        "Expected Output:\n",
        "item4 55\n",
        "item1 45.5\n",
        "item3 41.3\n",
        "```\n"
      ],
      "metadata": {
        "id": "OnYknUtWMYSr"
      }
    },
    {
      "cell_type": "code",
      "source": [
        "sd = {'item1': 45.50, 'item2':35, 'item3': 41.30, 'item4':55, 'item5': 24}\n",
        "l = []\n",
        "for k,v in sd.items():\n",
        "  l.append((k,v))\n",
        "l.sort(key = lambda a: a[1],reverse = True)\n",
        "print(l)\n",
        "for i in range(0,3):\n",
        "  print(f'{l[i][0]} {l[i][1]}')\n"
      ],
      "metadata": {
        "colab": {
          "base_uri": "https://localhost:8080/"
        },
        "id": "2q8ev-kbMas2",
        "outputId": "ae6d416d-3cd8-40f4-c393-8f79c30899dd"
      },
      "execution_count": 47,
      "outputs": [
        {
          "output_type": "stream",
          "name": "stdout",
          "text": [
            "[('item4', 55), ('item1', 45.5), ('item3', 41.3), ('item2', 35), ('item5', 24)]\n",
            "item4 55\n",
            "item1 45.5\n",
            "item3 41.3\n"
          ]
        }
      ]
    },
    {
      "cell_type": "code",
      "source": [],
      "metadata": {
        "id": "_6uauKq7sCtm"
      },
      "execution_count": null,
      "outputs": []
    },
    {
      "cell_type": "code",
      "source": [],
      "metadata": {
        "id": "NJhUygp3sskx"
      },
      "execution_count": null,
      "outputs": []
    }
  ]
}